{
 "cells": [
  {
   "attachments": {},
   "cell_type": "markdown",
   "metadata": {},
   "source": [
    "# Convergence of a time series and corresponding distribution\n",
    "Written By: EJ Rainville, Winter 2023\n",
    "\n",
    "Goals: Prove that having multiple small time series in different areas within a given area will converge to the overall distribution after a certain amount of waves. How many waves does this take? This will help to inform which missions are useful. Also prove that the RMS value of the aggregate distribution will converge to the true RMS value. Possibly attempt to make a composite spectra as well."
   ]
  },
  {
   "cell_type": "code",
   "execution_count": 2,
   "metadata": {},
   "outputs": [
    {
     "name": "stdout",
     "output_type": "stream",
     "text": [
      "The autoreload extension is already loaded. To reload it, use:\n",
      "  %reload_ext autoreload\n"
     ]
    }
   ],
   "source": [
    "import numpy as np\n",
    "import matplotlib.pyplot as plt\n",
    "from scipy import io\n",
    "from scipy import signal\n",
    "from scipy import stats\n",
    "\n",
    "import mission_tools\n",
    "\n",
    "%load_ext autoreload\n",
    "%autoreload 2\n",
    "%matplotlib widget"
   ]
  },
  {
   "attachments": {},
   "cell_type": "markdown",
   "metadata": {},
   "source": [
    "Create a synthetic dataset over an area with a given mean value and variance - make sure it has a Rayleigh distribution of wave heights."
   ]
  },
  {
   "cell_type": "code",
   "execution_count": 6,
   "metadata": {},
   "outputs": [
    {
     "ename": "TypeError",
     "evalue": "_parse_args_rvs() got multiple values for argument 'loc'",
     "output_type": "error",
     "traceback": [
      "\u001b[0;31m---------------------------------------------------------------------------\u001b[0m",
      "\u001b[0;31mTypeError\u001b[0m                                 Traceback (most recent call last)",
      "Cell \u001b[0;32mIn[6], line 3\u001b[0m\n\u001b[1;32m      1\u001b[0m H_center \u001b[39m=\u001b[39m \u001b[39m1\u001b[39m\n\u001b[1;32m      2\u001b[0m num_waves_total \u001b[39m=\u001b[39m \u001b[39m10000\u001b[39m\n\u001b[0;32m----> 3\u001b[0m wave_dist_total \u001b[39m=\u001b[39m stats\u001b[39m.\u001b[39;49mrayleigh\u001b[39m.\u001b[39;49mrvs(num_waves_total, loc\u001b[39m=\u001b[39;49mH_center)\n",
      "File \u001b[0;32m~/opt/miniconda3/envs/dissip_env/lib/python3.9/site-packages/scipy/stats/_distn_infrastructure.py:1028\u001b[0m, in \u001b[0;36mrv_generic.rvs\u001b[0;34m(self, *args, **kwds)\u001b[0m\n\u001b[1;32m   1026\u001b[0m discrete \u001b[39m=\u001b[39m kwds\u001b[39m.\u001b[39mpop(\u001b[39m'\u001b[39m\u001b[39mdiscrete\u001b[39m\u001b[39m'\u001b[39m, \u001b[39mNone\u001b[39;00m)\n\u001b[1;32m   1027\u001b[0m rndm \u001b[39m=\u001b[39m kwds\u001b[39m.\u001b[39mpop(\u001b[39m'\u001b[39m\u001b[39mrandom_state\u001b[39m\u001b[39m'\u001b[39m, \u001b[39mNone\u001b[39;00m)\n\u001b[0;32m-> 1028\u001b[0m args, loc, scale, size \u001b[39m=\u001b[39m \u001b[39mself\u001b[39;49m\u001b[39m.\u001b[39;49m_parse_args_rvs(\u001b[39m*\u001b[39;49margs, \u001b[39m*\u001b[39;49m\u001b[39m*\u001b[39;49mkwds)\n\u001b[1;32m   1029\u001b[0m cond \u001b[39m=\u001b[39m logical_and(\u001b[39mself\u001b[39m\u001b[39m.\u001b[39m_argcheck(\u001b[39m*\u001b[39margs), (scale \u001b[39m>\u001b[39m\u001b[39m=\u001b[39m \u001b[39m0\u001b[39m))\n\u001b[1;32m   1030\u001b[0m \u001b[39mif\u001b[39;00m \u001b[39mnot\u001b[39;00m np\u001b[39m.\u001b[39mall(cond):\n",
      "\u001b[0;31mTypeError\u001b[0m: _parse_args_rvs() got multiple values for argument 'loc'"
     ]
    }
   ],
   "source": [
    "H_center = 1\n",
    "num_waves_total = 10000\n",
    "wave_dist_total = stats.rayleigh.rvs(num_waves_total, loc=H_center)"
   ]
  },
  {
   "cell_type": "code",
   "execution_count": 8,
   "metadata": {},
   "outputs": [
    {
     "name": "stdout",
     "output_type": "stream",
     "text": [
      "\u001b[0;31mSignature:\u001b[0m \u001b[0mstats\u001b[0m\u001b[0;34m.\u001b[0m\u001b[0mrayleigh\u001b[0m\u001b[0;34m.\u001b[0m\u001b[0mrvs\u001b[0m\u001b[0;34m(\u001b[0m\u001b[0;34m*\u001b[0m\u001b[0margs\u001b[0m\u001b[0;34m,\u001b[0m \u001b[0;34m**\u001b[0m\u001b[0mkwds\u001b[0m\u001b[0;34m)\u001b[0m\u001b[0;34m\u001b[0m\u001b[0;34m\u001b[0m\u001b[0m\n",
      "\u001b[0;31mDocstring:\u001b[0m\n",
      "Random variates of given type.\n",
      "\n",
      "Parameters\n",
      "----------\n",
      "arg1, arg2, arg3,... : array_like\n",
      "    The shape parameter(s) for the distribution (see docstring of the\n",
      "    instance object for more information).\n",
      "loc : array_like, optional\n",
      "    Location parameter (default=0).\n",
      "scale : array_like, optional\n",
      "    Scale parameter (default=1).\n",
      "size : int or tuple of ints, optional\n",
      "    Defining number of random variates (default is 1).\n",
      "random_state : {None, int, `numpy.random.Generator`,\n",
      "                `numpy.random.RandomState`}, optional\n",
      "\n",
      "    If `random_state` is None (or `np.random`), the\n",
      "    `numpy.random.RandomState` singleton is used.\n",
      "    If `random_state` is an int, a new ``RandomState`` instance is\n",
      "    used, seeded with `random_state`.\n",
      "    If `random_state` is already a ``Generator`` or ``RandomState``\n",
      "    instance, that instance is used.\n",
      "\n",
      "Returns\n",
      "-------\n",
      "rvs : ndarray or scalar\n",
      "    Random variates of given `size`.\n",
      "\u001b[0;31mFile:\u001b[0m      ~/opt/miniconda3/envs/dissip_env/lib/python3.9/site-packages/scipy/stats/_distn_infrastructure.py\n",
      "\u001b[0;31mType:\u001b[0m      method"
     ]
    }
   ],
   "source": [
    "stats.rayleigh.rvs?"
   ]
  },
  {
   "cell_type": "code",
   "execution_count": null,
   "metadata": {},
   "outputs": [],
   "source": []
  }
 ],
 "metadata": {
  "kernelspec": {
   "display_name": "dissip_env",
   "language": "python",
   "name": "python3"
  },
  "language_info": {
   "codemirror_mode": {
    "name": "ipython",
    "version": 3
   },
   "file_extension": ".py",
   "mimetype": "text/x-python",
   "name": "python",
   "nbconvert_exporter": "python",
   "pygments_lexer": "ipython3",
   "version": "3.9.16"
  },
  "orig_nbformat": 4,
  "vscode": {
   "interpreter": {
    "hash": "e2dc1b1bcd5c3fdf855318c7e4971dc69167352eec27ac9cb992b72ff863d774"
   }
  }
 },
 "nbformat": 4,
 "nbformat_minor": 2
}
