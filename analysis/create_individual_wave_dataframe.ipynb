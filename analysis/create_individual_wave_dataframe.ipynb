{
 "cells": [
  {
   "cell_type": "code",
   "execution_count": 4,
   "metadata": {},
   "outputs": [
    {
     "name": "stdout",
     "output_type": "stream",
     "text": [
      "The autoreload extension is already loaded. To reload it, use:\n",
      "  %reload_ext autoreload\n"
     ]
    }
   ],
   "source": [
    "import cftime\n",
    "import glob\n",
    "import netCDF4 as nc\n",
    "import numpy as np\n",
    "import pandas as pd\n",
    "\n",
    "import mission_tools\n",
    "\n",
    "%load_ext autoreload\n",
    "%autoreload 2\n",
    "%matplotlib widget"
   ]
  },
  {
   "cell_type": "code",
   "execution_count": 5,
   "metadata": {},
   "outputs": [],
   "source": [
    "mission_list = glob.glob('../microSWIFT_data/final_dataset/mission_*.nc')\n",
    "bathy_file = '../microSWIFT_data/FRFdata/' \\\n",
    "             'FRF_geomorphology_DEMs_surveyDEM_20211021.nc'\n",
    "awac_file = '../microSWIFT_data/FRFdata/FRF-ocean_waves_awac-4.5m_202110.nc'"
   ]
  },
  {
   "cell_type": "code",
   "execution_count": null,
   "metadata": {},
   "outputs": [],
   "source": [
    "microSWIFT_sig_wave_heights = []\n",
    "mission_times = []\n",
    "standard_deviations = []\n",
    "awac_sig_wave_heights = []\n",
    "num_waves_in_mission = []\n",
    "mean_wave_periods  = []\n",
    "\n",
    "for mission_nc in mission_list:\n",
    "    mission_dataset = nc.Dataset(mission_nc, mode='r')\n",
    "\n",
    "    x_locations = mission_dataset['xFRF'][:]\n",
    "    y_locations = mission_dataset['yFRF'][:]\n",
    "    eta = mission_dataset['sea_surface_elevation'][:]\n",
    "    time = mission_dataset['time'][:]\n",
    "\n",
    "    wave_heights, \\\n",
    "    wave_x_locs, \\\n",
    "    wave_y_locs, \\\n",
    "    wave_periods = mission_tools.compute_individual_waves(x_locations,\n",
    "                                                          y_locations,\n",
    "                                                          eta, time,\n",
    "                                                          bathy_file)\n",
    "\n",
    "    sig_wave_height, \\\n",
    "    standard_dev  = mission_tools.compute_sig_wave_height_top_third(wave_heights)\n",
    "\n",
    "    microSWIFT_sig_wave_heights.append(sig_wave_height)\n",
    "    num_waves_in_mission.append(len(wave_heights))\n",
    "    standard_deviations.append(standard_dev)\n",
    "    mission_time = np.median(mission_dataset['time'][:])\n",
    "    mission_times.append(mission_time)\n",
    "    mean_wave_periods.append(np.mean(wave_periods))\n",
    "\n",
    "    awac_sig_wave_heights.append(mission_tools.closest_awac_sig_wave_height(mission_time, awac_file))"
   ]
  }
 ],
 "metadata": {
  "kernelspec": {
   "display_name": "dissip_env",
   "language": "python",
   "name": "python3"
  },
  "language_info": {
   "codemirror_mode": {
    "name": "ipython",
    "version": 3
   },
   "file_extension": ".py",
   "mimetype": "text/x-python",
   "name": "python",
   "nbconvert_exporter": "python",
   "pygments_lexer": "ipython3",
   "version": "3.9.16"
  },
  "orig_nbformat": 4,
  "vscode": {
   "interpreter": {
    "hash": "e2dc1b1bcd5c3fdf855318c7e4971dc69167352eec27ac9cb992b72ff863d774"
   }
  }
 },
 "nbformat": 4,
 "nbformat_minor": 2
}
